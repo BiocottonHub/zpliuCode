{
 "metadata": {
  "language_info": {
   "codemirror_mode": {
    "name": "ipython",
    "version": 3
   },
   "file_extension": ".py",
   "mimetype": "text/x-python",
   "name": "python",
   "nbconvert_exporter": "python",
   "pygments_lexer": "ipython3",
   "version": "3.7.7-final"
  },
  "orig_nbformat": 2,
  "kernelspec": {
   "name": "python377jvsc74a57bd0318ad115214a4af8ad6e18cfd3e37d64f0b71b2b9c6fe5b42ddec07479e8947a",
   "display_name": "Python 3.7.7 64-bit ('base': conda)"
  },
  "metadata": {
   "interpreter": {
    "hash": "318ad115214a4af8ad6e18cfd3e37d64f0b71b2b9c6fe5b42ddec07479e8947a"
   }
  }
 },
 "nbformat": 4,
 "nbformat_minor": 2,
 "cells": [
  {
   "source": [
    "## SynChro\n",
    "> 重建和可视化染色体Block"
   ],
   "cell_type": "markdown",
   "metadata": {}
  },
  {
   "cell_type": "code",
   "execution_count": 4,
   "metadata": {},
   "outputs": [
    {
     "output_type": "stream",
     "name": "stdout",
     "text": [
      "['Catr01-GG692395.embl', 'Catr02-GG692396.embl', 'Catr03-GG692397.embl', 'Catr04-GG692398.embl', 'Catr05-GG692399.embl', 'Catr06-GG692400.embl', 'Catr07-GG692401.embl', 'Catr08-GG692402.embl', 'Catr09-GG692403.embl', 'Catr10-GG692404.embl', 'Catr11-GG692405.embl', 'Catr12-GG692406.embl', 'Catr13-GG692407.embl', 'Catr14-GG692408.embl', 'Catr15-GG692409.embl', 'Catr17-GG692411.embl', 'Catr18-GG692412.embl', 'Catr20-GG692414.embl', 'Catr21-GG692415.embl', 'Catr22-GG692416.embl']\n",
      "mkdir: cannot create directory ‘../../Yeast/01Genomes/’: File exists\n",
      "mkdir: cannot create directory ‘../../Yeast/01Genomes/’: File exists\n",
      "The number of genes of ch supercont3.1 is 1074\n",
      "The number of genes of ch supercont3.2 is 1046\n",
      "The number of genes of ch supercont3.3 is 910\n",
      "The number of genes of ch supercont3.4 is 697\n",
      "The number of genes of ch supercont3.5 is 549\n",
      "The number of genes of ch supercont3.6 is 562\n",
      "The number of genes of ch supercont3.7 is 385\n",
      "The number of genes of ch supercont3.8 is 337\n",
      "The number of genes of ch supercont3.9 is 207\n",
      "The number of genes of ch supercont3.10 is 196\n",
      "The number of genes of ch supercont3.11 is 189\n",
      "The number of genes of ch supercont3.12 is 67\n",
      "The number of genes of ch supercont3.13 is 11\n",
      "The number of genes of ch supercont3.14 is 7\n",
      "The number of genes of ch supercont3.15 is 2\n",
      "The number of genes of ch supercont3.17 is 2\n",
      "The number of genes of ch supercont3.18 is 3\n",
      "The number of genes of ch supercont3.20 is 2\n",
      "The number of genes of ch supercont3.21 is 3\n",
      "The number of genes of ch supercont3.22 is 4\n",
      "The list of the 'end' position: ['1119', '2208', '3149', '3867', '4427', '5006', '5392', '5736', '5948', '6149', '6339', '6406', '6417', '6424', '6426', '6428', '6431', '6433', '6436', '6440']\n",
      ".CH File completed for ../../Yeast/01Genomes/CATR\n",
      "THE END\n"
     ]
    }
   ],
   "source": [
    "#! 1.formatted genomes\n",
    "import os \n",
    "os.chdir(\"/data/cotton/zhenpingliu/jyli/CHROnicle/Programs/0Convert2InputF\")\n",
    "!python2 ./ConvertEMBL.py Yeast CandidaTropicalis CATR \n",
    "##generate file\n",
    "#1. CATR.ch\n",
    "#2. CATR.def\n",
    "#3. CATR.prt"
   ]
  },
  {
   "cell_type": "code",
   "execution_count": 9,
   "metadata": {},
   "outputs": [
    {
     "output_type": "stream",
     "name": "stdout",
     "text": [
      "1 \tCAAL\n",
      "2 \tCAGL\n",
      "3 \tCATR\n",
      "4 \tLAKL\n",
      "5 \tSACE\n",
      "6 \tZYRO\n",
      "For which genomes do you want to reconstruct synteny blocks? \n",
      "   Write their associated numbers as space separated values.\n",
      "^C\n",
      "Traceback (most recent call last):\n",
      "  File \"SynChro.py\", line 193, in <module>\n",
      "    _main_(sys.argv)\n",
      "  File \"SynChro.py\", line 57, in _main_\n",
      "    Write their associated numbers as space separated values.\\n\")\n",
      "KeyboardInterrupt\n"
     ]
    }
   ],
   "source": [
    "#! 2. Compute synteny blocks with SynChro\n",
    "# 第一个数字为0，表示计算所有基因组两两之间的共线性关系\n",
    "# 第一个数字为1，表示计算指定基因组两两之间的共线性关系\n",
    "#! 运行脚本前CHROnicle/Yeast/10RBH目录必须为空\n",
    "os.chdir(\"/data/cotton/zhenpingliu/jyli/CHROnicle/Programs/1SynChro\")\n",
    "#! plot Data\n",
    "!module load gnuplot/5.0.7\n",
    "!module load BLAST/2.2.26-Linux_x86_64 \n",
    "!python2 SynChro.py Yeast 0 2 \n",
    "#!output Dir\n",
    "#! CHROnicle/Yeast/10RBH\n",
    "#! CHROnicle/Yeast/11Blocks"
   ]
  },
  {
   "cell_type": "code",
   "execution_count": 12,
   "metadata": {},
   "outputs": [],
   "source": [
    "#! 3. generate a tabel summarizing the properties of synteny blocks\n",
    "os.chdir(\"/public/home/cotton/software/CHROnicle/Programs/1SynChro/Summary\")\n",
    "!./Summary.sh Yeast  2 \n",
    "#! output Dir\n",
    "# /data/cotton/zhenpingliu/jyli/CHROnicle/Yeast/11Blocks/Delta2/SummaryY2.txt\n"
   ]
  },
  {
   "cell_type": "code",
   "execution_count": 14,
   "metadata": {},
   "outputs": [
    {
     "output_type": "stream",
     "name": "stdout",
     "text": [
      "/usr/bin/env: gnuplot: No such file or directory\n"
     ]
    }
   ],
   "source": [
    "# 4. plot some of these block properties\n",
    "os.chdir(\"/data/cotton/zhenpingliu/jyli/CHROnicle/Programs/1SynChro/Summary\")\n",
    "!./PercentGenomfDiv.sh Yeast 2\n",
    "#! out file ../../../Yeast/11Blocks/Delta2/PercentGenomfDiv2.eps"
   ]
  },
  {
   "cell_type": "code",
   "execution_count": 15,
   "metadata": {},
   "outputs": [
    {
     "output_type": "stream",
     "name": "stdout",
     "text": [
      "6 ['CAAL', 'CAGL', 'CATR', 'LAKL', 'SACE', 'ZYRO']\n",
      "Traceback (most recent call last):\n",
      "  File \"./InterOrtho.py\", line 277, in <module>\n",
      "    _main_(sys.argv)\n",
      "  File \"./InterOrtho.py\", line 262, in _main_\n",
      "    dico1,dico2=synthesePairs(nameList[i],nameList[j],group,delta)\n",
      "  File \"./InterOrtho.py\", line 53, in synthesePairs\n",
      "    '/OrthBlocks/'+name1+'.'+name2+'.orth.pairs','r')\n",
      "IOError: [Errno 2] No such file or directory: '../../Yeast/11Blocks/Delta2/OrthBlocks/CAAL.CATR.orth.pairs'\n"
     ]
    }
   ],
   "source": [
    "#!5. Reconstruct families of syntenic homologs\n",
    "os.chdir(\"/data/cotton/zhenpingliu/jyli/CHROnicle/Programs/1SynChro/\")\n",
    "!python2 ./InterOrtho.py Yeast 2 80\n",
    "#output Dir /data/cotton/zhenpingliu/jyli/CHROnicle/Yeast/11Blocks/Delta2/OrthBlocks\n",
    "# 这里我只构建了CAAL和CAGL的共线性关系，默认是找Yeast/01Genomes中所有的物种；所以报错了"
   ]
  },
  {
   "source": [
    "## PhyChro\n",
    "> 基于基因共线性block和基因相邻关系构建物种的系统发生树\n",
    "\n",
    "```bash\n",
    "## 构建基因block关系\n",
    "#1. Yeast 指定物种名\n",
    "#2. 0 表示Yeast中所有物种进行比较，非0可以指定任意2个或者多个物种进行比较，测试例子这里使用的是三个物种间的比较\n",
    "python2 ./SynChro.py Yeasshi 3 0\n",
    "#我这里之前只构建了两个物种间的共线性\n",
    "!python2 SynChro.py Yeast 1 2 \n",
    "```\n",
    "\n"
   ],
   "cell_type": "markdown",
   "metadata": {}
  },
  {
   "cell_type": "code",
   "execution_count": 1,
   "metadata": {},
   "outputs": [
    {
     "output_type": "stream",
     "name": "stdout",
     "text": [
      "1 \tCAAL\n2 \tCAGL\n3 \tCATR\n4 \tLAKL\n5 \tLAWA\n6 \tSACE\n7 \tZYRO\nWhich TREE do you want to reconstruct? ... write their numbers separated by spaces \n"
     ]
    }
   ],
   "source": [
    "##可以看出来默认是构建所有物种的进化关系\n",
    "os.chdir(\"/public/home/cotton/software/CHROnicle/Programs/2PhyChro\")\n",
    "# CHROnicle/Yeast/11Blocks/Delta0/OrthBlocks\n",
    "#复杂*.def 文件到目录\n",
    "#!cp -R  ../../../01Genomes/*def  .\n",
    "!python2 ./PhyChro.py --cladeName Yeast --delta 2 --tree tree1 --whole_tree n\n",
    "#! output file  CHROnicle/Yeast/20Trees/Delta2/tree1.outtree.\n",
    "#! CHROnicle/Yeast/20Trees/Delta3/tree1.outtree.\n",
    "!\n"
   ]
  },
  {
   "source": [
    "```python\n",
    "#第100行处需要去除行末尾空格，否则int的时候会报错\n",
    "questionLigne=re.split(\" \",questionGenome.strip(\" \"))\n",
    "```"
   ],
   "cell_type": "markdown",
   "metadata": {}
  },
  {
   "cell_type": "code",
   "execution_count": 15,
   "metadata": {},
   "outputs": [
    {
     "output_type": "stream",
     "name": "stdout",
     "text": [
      "'\n",
      "mkdir: cannot create directory ‘../../Yeast/12OrthFamilies/’: File exists\n",
      "mkdir: cannot create directory ‘../../Yeast/12OrthFamilies/Delta2/’: File exists\n",
      "7 ['CAAL', 'CAGL', 'CATR', 'LAKL', 'LAWA', 'SACE', 'ZYRO']\n",
      "Traceback (most recent call last):\n",
      "  File \"./InterOrtho.py\", line 281, in <module>\n",
      "    _main_(sys.argv)\n",
      "  File \"./InterOrtho.py\", line 264, in _main_\n",
      "    dico1,dico2=synthesePairs(nameList[i],nameList[j],group,delta)\n",
      "  File \"./InterOrtho.py\", line 54, in synthesePairs\n",
      "    '/OrthBlocks/'+name1+'.'+name2+'.orth.pairs','r')\n",
      "IOError: [Errno 2] No such file or directory: '../../Yeast/11Blocks/Delta2/OrthBlocks/CAAL.LAWA.orth.pairs'\n",
      "./PhyMut.sh: line 16: $'\\r': command not found\n",
      ": No such file or directory\n",
      "\n",
      "./PhyMut.sh: line 20: $'\\r': command not found\n",
      "./PhyMut.sh: line 22: syntax error near unexpected token `$'do\\r''\n",
      "'\n"
     ]
    }
   ],
   "source": [
    "import os\n",
    "os.chdir(\"/public/home/cotton/software/CHROnicle/Programs/2PhyChro\")\n",
    "!bash ./PhyMut.sh Yeast 2 80"
   ]
  }
 ]
}